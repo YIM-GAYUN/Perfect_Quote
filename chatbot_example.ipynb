{
 "cells": [
  {
   "cell_type": "markdown",
   "metadata": {},
   "source": [
    "# 멀티턴 대화 챗봇"
   ]
  },
  {
   "cell_type": "markdown",
   "metadata": {},
   "source": [
    "사전 진행 사항들\n",
    "- `pip install -r requirements.txt`를 실행하여 패키지를 설치한다.\n",
    "- `.env` 파일에 자신의 `upstage api key`를 입력한다.\n"
   ]
  },
  {
   "cell_type": "markdown",
   "metadata": {},
   "source": [
    "## 챗봇 활용법"
   ]
  },
  {
   "cell_type": "code",
   "execution_count": 1,
   "metadata": {},
   "outputs": [],
   "source": [
    "from utils.chatbot_utils import Chatbot\n",
    "\n",
    "chatbot = Chatbot()"
   ]
  },
  {
   "cell_type": "code",
   "execution_count": 2,
   "metadata": {},
   "outputs": [
    {
     "data": {
      "text/plain": [
       "'안녕! 오랜만이네. 잘 지냈어? 요즘 어떤 일들이 너를 가장 행복하게 하는지 궁금하네. 함께 이야기 나누며 더 친해지자!'"
      ]
     },
     "execution_count": 2,
     "metadata": {},
     "output_type": "execute_result"
    }
   ],
   "source": [
    "# 첫 번째 대화\n",
    "chatbot.chat_once(\"안녕\")"
   ]
  },
  {
   "cell_type": "code",
   "execution_count": 3,
   "metadata": {},
   "outputs": [
    {
     "data": {
      "text/plain": [
       "'김철수 라고 하니 더 친근하게 느껴져! AI랑 자연어 처리라니 정말 멋져! 서울 생활은 어떤 거야? 캠퍼스도 멋질 거 같아! 함께 이야기 나눌 게 많아서 기대돼!'"
      ]
     },
     "execution_count": 3,
     "metadata": {},
     "output_type": "execute_result"
    }
   ],
   "source": [
    "# 두 번째 대화\n",
    "chatbot.chat_once(\"반가워, 나는 김철수이고 서울에서 생활하는 대학생이야. 전공은 AI이고 자연어 처리에 관심이 많아!\")"
   ]
  },
  {
   "cell_type": "code",
   "execution_count": 4,
   "metadata": {},
   "outputs": [
    {
     "data": {
      "text/plain": [
       "'공포영화라니 흥미롭네! 나도 가끔 즐겨봐. 삼겹살은 진리야! 특히 양념갈비는 더 좋아. 같이 삼겹살 먹으면서 무서운 영화 한 편 볼까? 재밌을 거 같아!'"
      ]
     },
     "execution_count": 4,
     "metadata": {},
     "output_type": "execute_result"
    }
   ],
   "source": [
    "# 세 번째 대화\n",
    "chatbot.chat_once(\"또 내 취미는 공포영화를 즐겨보는 것이고, 좋아하는 음식은 삼겹살이야.\")"
   ]
  },
  {
   "cell_type": "code",
   "execution_count": 5,
   "metadata": {},
   "outputs": [
    {
     "data": {
      "text/plain": [
       "'응, 모두 잘 듣고 있어! 너의 취미와 좋아하는 음식까지! 같이 대화 나누니까 즐거워. 더 궁금한 게 있으면 언제든지 물어봐!'"
      ]
     },
     "execution_count": 5,
     "metadata": {},
     "output_type": "execute_result"
    }
   ],
   "source": [
    "# 네 번째 대화\n",
    "chatbot.chat_once(\"내 말 잘 듣고 있는 거야?\")"
   ]
  },
  {
   "cell_type": "code",
   "execution_count": 6,
   "metadata": {},
   "outputs": [
    {
     "data": {
      "text/plain": [
       "'너는 김철수라는 서울에서 생활하는 대학생이고, AI 전공에 자연어 처리에 관심이 많다고 했어. 취미는 공포영화 보기이고, 좋아하는 음식은 삼겹살이라고 했지! 많은 이야기를 나눴어 기뻐!'"
      ]
     },
     "execution_count": 6,
     "metadata": {},
     "output_type": "execute_result"
    }
   ],
   "source": [
    "# 다섯 번째 대화\n",
    "chatbot.chat_once(\"지금까지 나에 대해서 너가 아는 것을 말해봐.\")"
   ]
  },
  {
   "cell_type": "code",
   "execution_count": 7,
   "metadata": {},
   "outputs": [
    {
     "name": "stdout",
     "output_type": "stream",
     "text": [
      "User: 안녕\n",
      "AI: 안녕! 오랜만이네. 잘 지냈어? 요즘 어떤 일들이 너를 가장 행복하게 하는지 궁금하네. 함께 이야기 나누며 더 친해지자!\n",
      "User: 반가워, 나는 김철수이고 서울에서 생활하는 대학생이야. 전공은 AI이고 자연어 처리에 관심이 많아!\n",
      "AI: 김철수 라고 하니 더 친근하게 느껴져! AI랑 자연어 처리라니 정말 멋져! 서울 생활은 어떤 거야? 캠퍼스도 멋질 거 같아! 함께 이야기 나눌 게 많아서 기대돼!\n",
      "User: 또 내 취미는 공포영화를 즐겨보는 것이고, 좋아하는 음식은 삼겹살이야.\n",
      "AI: 공포영화라니 흥미롭네! 나도 가끔 즐겨봐. 삼겹살은 진리야! 특히 양념갈비는 더 좋아. 같이 삼겹살 먹으면서 무서운 영화 한 편 볼까? 재밌을 거 같아!\n",
      "User: 내 말 잘 듣고 있는 거야?\n",
      "AI: 응, 모두 잘 듣고 있어! 너의 취미와 좋아하는 음식까지! 같이 대화 나누니까 즐거워. 더 궁금한 게 있으면 언제든지 물어봐!\n",
      "User: 지금까지 나에 대해서 너가 아는 것을 말해봐.\n",
      "AI: 너는 김철수라는 서울에서 생활하는 대학생이고, AI 전공에 자연어 처리에 관심이 많다고 했어. 취미는 공포영화 보기이고, 좋아하는 음식은 삼겹살이라고 했지! 많은 이야기를 나눴어 기뻐!\n"
     ]
    }
   ],
   "source": [
    "# 지금까지의 대화 기록을 살펴보기\n",
    "chatbot.show_history()"
   ]
  },
  {
   "cell_type": "code",
   "execution_count": 8,
   "metadata": {},
   "outputs": [
    {
     "name": "stdout",
     "output_type": "stream",
     "text": [
      "대화 기록이 저장되었습니다.\n",
      "대화 내용 통계: {'total_conversations': 5, 'user_messages_count': 5, 'ai_messages_count': 5, 'log_filename': None}\n"
     ]
    }
   ],
   "source": [
    "# 지금까지의 대화 기록을 csv파일로 저장하기.\n",
    "chatbot.save_chat_history_to_csv()"
   ]
  }
 ],
 "metadata": {
  "kernelspec": {
   "display_name": ".venv",
   "language": "python",
   "name": "python3"
  },
  "language_info": {
   "codemirror_mode": {
    "name": "ipython",
    "version": 3
   },
   "file_extension": ".py",
   "mimetype": "text/x-python",
   "name": "python",
   "nbconvert_exporter": "python",
   "pygments_lexer": "ipython3",
   "version": "3.12.3"
  }
 },
 "nbformat": 4,
 "nbformat_minor": 2
}
