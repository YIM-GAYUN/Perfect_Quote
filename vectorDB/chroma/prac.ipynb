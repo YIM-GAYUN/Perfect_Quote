{
 "cells": [
  {
   "cell_type": "code",
   "execution_count": 1,
   "metadata": {},
   "outputs": [],
   "source": [
    "!pip install -q chromadb"
   ]
  },
  {
   "cell_type": "markdown",
   "metadata": {},
   "source": [
    "## Chroma DB 시작"
   ]
  },
  {
   "cell_type": "code",
   "execution_count": 2,
   "metadata": {},
   "outputs": [],
   "source": [
    "import chromadb\n",
    "\n",
    "client = chromadb.Client()\n",
    "\n",
    "collection = client.create_collection(\"quotes\") # quotes라는 이름의 테이블 생성"
   ]
  },
  {
   "cell_type": "code",
   "execution_count": 8,
   "metadata": {},
   "outputs": [
    {
     "name": "stderr",
     "output_type": "stream",
     "text": [
      "100%|██████████| 9996/9996 [02:27<00:00, 67.65it/s]"
     ]
    },
    {
     "name": "stdout",
     "output_type": "stream",
     "text": [
      "벡터 DB에 데이터 추가 완료!\n"
     ]
    },
    {
     "name": "stderr",
     "output_type": "stream",
     "text": [
      "\n"
     ]
    }
   ],
   "source": [
    "import pandas as pd\n",
    "import numpy as np\n",
    "from sentence_transformers import SentenceTransformer\n",
    "from tqdm import tqdm\n",
    "import chromadb  # ChromaDB 라이브러리 사용\n",
    "import torch\n",
    "\n",
    "# CSV 파일 읽기\n",
    "df = pd.read_csv(\"/home/jdh251425/2025_prometheus/Dataset/quotes_with_insights_combined.csv\")\n",
    "\n",
    "# 모델 로드 (quote_embedding_by_insight.py에서 사용한 모델)\n",
    "device = 'cuda' if torch.cuda.is_available() else 'cpu'\n",
    "model = SentenceTransformer('sentence-transformers/paraphrase-multilingual-mpnet-base-v2', device=device)\n",
    "\n",
    "# ChromaDB 클라이언트 초기화\n",
    "client = chromadb.Client()\n",
    "\n",
    "# 컬렉션이 이미 존재하는지 확인\n",
    "collection_name = \"quotes\"\n",
    "if collection_name not in client.list_collections():\n",
    "    collection = client.create_collection(collection_name)\n",
    "else:\n",
    "    collection = client.get_collection(collection_name)\n",
    "\n",
    "# 벡터 DB에 데이터 추가\n",
    "for index, row in tqdm(df.iterrows(), total=df.shape[0]):\n",
    "    # 메타데이터 설정\n",
    "    metadata = {\n",
    "        \"quote\": row['quote'],\n",
    "        \"author\": row['author'],\n",
    "        \"category\": row['category']\n",
    "    }\n",
    "    \n",
    "    # 임베딩 생성\n",
    "    embedding = model.encode(row['insight'], convert_to_numpy=True)\n",
    "    \n",
    "    # 벡터 DB에 데이터 추가\n",
    "    collection.add(\n",
    "        embeddings=[embedding],\n",
    "        metadatas=[metadata],\n",
    "        ids=[str(index)]\n",
    "    )\n",
    "\n",
    "print(\"벡터 DB에 데이터 추가 완료!\")"
   ]
  },
  {
   "cell_type": "markdown",
   "metadata": {},
   "source": [
    "## 짧은 글을 벡터화해서 DB에 쿼리로 날려보기"
   ]
  },
  {
   "cell_type": "code",
   "execution_count": 15,
   "metadata": {},
   "outputs": [],
   "source": [
    "short_text = \"오늘 하루는 정말 힘들었다. 업무가 산더미처럼 쌓여 있었고, 해결해야 할 문제들이 끊임없이 나를 괴롭혔다. 하지만 저녁에 여자친구와 통화를 하면서 마음이 한결 가벼워졌다. 그녀의 따뜻한 말 한마디가 큰 위로가 되었고, 다시 힘을 낼 수 있었다. 정말 고맙고, 그녀가 있어서 다행이라는 생각이 든다.\""
   ]
  },
  {
   "cell_type": "code",
   "execution_count": 16,
   "metadata": {},
   "outputs": [
    {
     "name": "stdout",
     "output_type": "stream",
     "text": [
      "{'ids': [['4586', '4522', '6075']], 'embeddings': None, 'documents': [[None, None, None]], 'uris': None, 'data': None, 'metadatas': [[{'author': 'Maggie Stiefvater, Shiver', 'category': 'giddy, happiness', 'quote': 'right in this moment, I can´t even remember what unhappy feels like.'}, {'author': 'Molly Friedenfeld', 'category': 'inspirational, joy, light, positive-focus, positive-thinking', 'quote': 'We can assist other souls’ hearts and make their world brighter when they are traveling through a difficult experience not by lowering ourselves to their level of sadness but by lifting them up with the light of our joy.'}, {'author': \"Mary Karr, The Liars' Club\", 'category': 'happiness, metaphor', 'quote': \"Just being out of the house with Daddy like this at Fisher's lights me up enough for somebody to read by me.\"}]], 'distances': [[7.103705883026123, 7.248703956604004, 7.382364273071289]], 'included': [<IncludeEnum.distances: 'distances'>, <IncludeEnum.documents: 'documents'>, <IncludeEnum.metadatas: 'metadatas'>]}\n"
     ]
    }
   ],
   "source": [
    "import torch\n",
    "from sentence_transformers import SentenceTransformer\n",
    "import chromadb\n",
    "\n",
    "# 임베딩 모델 로드 (quote_embedding_by_insight.py에서 사용한 모델)\n",
    "# device = 'cuda' if torch.cuda.is_available() else 'cpu'\n",
    "# model = SentenceTransformer('sentence-transformers/paraphrase-multilingual-mpnet-base-v2', device=device)\n",
    "\n",
    "# 임베딩할 텍스트\n",
    "short_text = \"오늘 하루는 정말 힘들었다. 업무가 산더미처럼 쌓여 있었고, 해결해야 할 문제들이 끊임없이 나를 괴롭혔다. 하지만 저녁에 여자친구와 통화를 하면서 마음이 한결 가벼워졌다. 그녀의 따뜻한 말 한마디가 큰 위로가 되었고, 다시 힘을 낼 수 있었다. 정말 고맙고, 그녀가 있어서 다행이라는 생각이 든다.\"\n",
    "\n",
    "# 텍스트 임베딩\n",
    "embedding = model.encode(short_text, convert_to_numpy=True)\n",
    "\n",
    "# ChromaDB 클라이언트 초기화\n",
    "# client = chromadb.Client()\n",
    "\n",
    "# 컬렉션 가져오기\n",
    "collection_name = \"quotes\"\n",
    "collection = client.get_collection(collection_name)\n",
    "\n",
    "# 쿼리 실행\n",
    "query_result = collection.query(\n",
    "    query_embeddings=[embedding],\n",
    "    n_results=3  # 원하는 결과 수\n",
    ")\n",
    "\n",
    "# 쿼리 결과 출력\n",
    "print(query_result)"
   ]
  },
  {
   "cell_type": "code",
   "execution_count": 26,
   "metadata": {},
   "outputs": [
    {
     "data": {
      "text/plain": [
       "[{'author': 'Maggie Stiefvater, Shiver',\n",
       "  'category': 'giddy, happiness',\n",
       "  'quote': 'right in this moment, I can´t even remember what unhappy feels like.'},\n",
       " {'author': 'Molly Friedenfeld',\n",
       "  'category': 'inspirational, joy, light, positive-focus, positive-thinking',\n",
       "  'quote': 'We can assist other souls’ hearts and make their world brighter when they are traveling through a difficult experience not by lowering ourselves to their level of sadness but by lifting them up with the light of our joy.'},\n",
       " {'author': \"Mary Karr, The Liars' Club\",\n",
       "  'category': 'happiness, metaphor',\n",
       "  'quote': \"Just being out of the house with Daddy like this at Fisher's lights me up enough for somebody to read by me.\"}]"
      ]
     },
     "execution_count": 26,
     "metadata": {},
     "output_type": "execute_result"
    }
   ],
   "source": [
    "query_result['metadatas'][0]"
   ]
  },
  {
   "cell_type": "code",
   "execution_count": null,
   "metadata": {},
   "outputs": [],
   "source": []
  }
 ],
 "metadata": {
  "language_info": {
   "name": "python"
  }
 },
 "nbformat": 4,
 "nbformat_minor": 2
}
