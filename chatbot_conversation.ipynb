{
 "cells": [
  {
   "cell_type": "code",
   "execution_count": 1,
   "metadata": {},
   "outputs": [],
   "source": [
    "from utils.chatbot_utils import Chatbot\n",
    "import time\n",
    "import sys"
   ]
  },
  {
   "cell_type": "code",
   "execution_count": 2,
   "metadata": {},
   "outputs": [
    {
     "name": "stdout",
     "output_type": "stream",
     "text": [
      "==================================================\n",
      "Perfect Quote Chatbot 대화 시작\n",
      "==================================================\n",
      "사용자: 안녕\n",
      "챗봇: 안녕! 오랜만이네. 요즘 어떻게 지냈어? 뭔가 새로운 일이 생겼으면 공유해줘!\n",
      "------------------------------\n",
      "사용자: 그냥 취업했는데 직장생활하면서... 친구들과 소원해졌어\n",
      "챗봇: 취업 축하해! 직장생활이 친구들과의 관계를 소원하게 만들었다니 조금 아쉽네. 그래도 괜찮아, 다시 연락할 수 있는 방법은 항상 있으니까!\n",
      "------------------------------\n",
      "사용자: 취업한 건 기쁘고 행복하지. 주변에서도 축하해주고 그런데 아무래도 좀 자주 보지 못하기도 하니까 그런 것 같네\n",
      "챗봇: 축하해주고 응원해주는 주변 사람들이 있다니 정말 다행이야. 자주 못 보다니 아쉬운 면이 있지만, 이해해주는 친구들이라면 언제든지 다시 가까워질 수 있을 거야!\n",
      "------------------------------\n",
      "사용자: 그치.. 안그래도 오늘 친한 친구 생일이어서 축하해줬어. 그 친구한테는 항상 고마웠었는데 오늘 축하한다는 말을 빌려 고맙다고도 전해줬어\n",
      "챗봇: 그 친구도 너의 말을 듣고 더 행복해할 거야! 서로를 생각하고 표현하는 건 정말 중요한 일이야. 친구 사이에 있어서 정말 멋진 모습이야!\n",
      "------------------------------\n",
      "사용자: 고맙다 조만간 한 번 얼굴 보기로 했어. 날 인정해주기도 하고 날 알아봐줘서 되게 고마운 친구야\n",
      "챗봇: 얼굴 보는 건 정말 좋은 계획이야! 서로의 존재를 알아봐주고 소중히 여기는 친구라면 언제나 힘이 될 거야. 다정한 친구 사이가 되어서 정말 기쁘네!\n",
      "------------------------------\n",
      "사용자: 그래 ㅎㅎ\n",
      "챗봇: 그래, 그럼! 친구와 즐거운 시간 보내길 바랄게! 또 어떤 이야기든지 편하게 나눠줘!\n",
      "------------------------------\n",
      "사용자: 그래 고맙다\n",
      "챗봇: 언제나 너를 생각해주는 게 내 일이야. 고마워하지 않아도 돼! 언제든 도움 필요하면 말해줘!\n",
      "------------------------------\n",
      "사용자: exit\n",
      "==================================================\n",
      "( 챗봇과의 대화를 종료합니다. )\n",
      "==================================================\n"
     ]
    }
   ],
   "source": [
    "# 사용자와 계속적으로 대화하기\n",
    "# 'exit' 입력 시 종료\n",
    "\n",
    "print(\"=\" * 50)\n",
    "print(\"Perfect Quote Chatbot 대화 시작\")\n",
    "print(\"=\" * 50)\n",
    "time.sleep(0.2)\n",
    "\n",
    "chatbot = Chatbot()\n",
    "\n",
    "while True:\n",
    "    user_input = input(\"대화를 입력하세요: \") # 사용자 입력 받기\n",
    "    print(f\"사용자: {user_input}\") # 사용자 입력 출력\n",
    "    sys.stdout.flush()  # 출력 버퍼 강제 플러시\n",
    "    \n",
    "    if user_input.lower() == 'exit': # 사용자가 'exit' 입력 시 종료\n",
    "        print(\"=\" * 50)\n",
    "        print(\"( 챗봇과의 대화를 종료합니다. )\")\n",
    "        print(\"=\" * 50)\n",
    "        break\n",
    "\n",
    "    time.sleep(0.2) # RPM 조절용 딜레이\n",
    "    \n",
    "    # 챗봇 응답 생성 및 즉시 출력\n",
    "    try:\n",
    "        response = chatbot.chat_once(user_input) # 챗봇 응답 생성\n",
    "        print(f\"챗봇: {response}\") # 챗봇 응답 즉시 출력\n",
    "        sys.stdout.flush()  # 출력 버퍼 강제 플러시\n",
    "    except Exception as e:\n",
    "        print(f\"오류 발생: {e}\")\n",
    "    \n",
    "    print(\"-\" * 30) # 대화 구분선"
   ]
  },
  {
   "cell_type": "code",
   "execution_count": 3,
   "metadata": {},
   "outputs": [
    {
     "name": "stdout",
     "output_type": "stream",
     "text": [
      "User: 안녕\n",
      "AI: 안녕! 오랜만이네. 너의 안부가 궁금해. 요즘 어떻게 지내?\n",
      "User: 잘 지내고 있어\n",
      "AI: 정말 다행이네! 그래서, 최근에 어떤 재밌는 일들이 있었어? 이야기 나누고 싶은 거 있으면 언제든 말해줘.\n",
      "User: 그저꼐 치킨을 먹었는데 맛있더라\n",
      "AI: 치킨이 맛있었구나! 혹시 어디서 시켰어? 다음에 같이 먹을 치킨집이 생겼으면 좋겠네!\n",
      "User: 어디서 시킨지는 모르겠고 치킨의 시즈닝이 먹을만 했어. 치즈맛이었는데 난 원래 치즈는 잘 안 먹는데 그건 맛있더라고\n",
      "AI: 신선한 발견이네! 치즈를 별로 안 좋아한다면서 그 맛이 잘 맞았던 거니. 이걸로 치즈 치킨에 도전해보는 건 어때? 새로운 맛을 발견할 수도 있을 거야!\n",
      "User: 도전까지는 잘 모르겠네. 그 집 치킨만 먹는걸로...!\n",
      "AI: 그럴 만도 하네! 맛있는 치킨집은 한 곳이 좋기도 하니까. 다음에 그 치킨 마시고 싶으면 같이 시킬까? 맛집을 공유하는 것도 좋은 재미야!\n"
     ]
    }
   ],
   "source": [
    "# 지금까지 저장된 대화 히스토리\n",
    "chatbot.show_history()"
   ]
  },
  {
   "cell_type": "code",
   "execution_count": 4,
   "metadata": {},
   "outputs": [
    {
     "name": "stdout",
     "output_type": "stream",
     "text": [
      "대화 기록이 저장되었습니다.\n",
      "대화 내용 통계: {'total_conversations': 5, 'user_messages_count': 5, 'ai_messages_count': 5, 'log_filename': None}\n"
     ]
    }
   ],
   "source": [
    "# 지금까지 저장된 대화 기록을 csv파일로 저장하기.\n",
    "chatbot.save_chat_history_to_csv()"
   ]
  }
 ],
 "metadata": {
  "kernelspec": {
   "display_name": ".venv",
   "language": "python",
   "name": "python3"
  },
  "language_info": {
   "codemirror_mode": {
    "name": "ipython",
    "version": 3
   },
   "file_extension": ".py",
   "mimetype": "text/x-python",
   "name": "python",
   "nbconvert_exporter": "python",
   "pygments_lexer": "ipython3",
   "version": "3.12.3"
  }
 },
 "nbformat": 4,
 "nbformat_minor": 2
}
