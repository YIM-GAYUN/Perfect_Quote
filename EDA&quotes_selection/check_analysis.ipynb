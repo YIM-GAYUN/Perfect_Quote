{
 "cells": [
  {
   "cell_type": "code",
   "execution_count": 1,
   "metadata": {},
   "outputs": [],
   "source": [
    "import pandas as pd\n",
    "\n",
    "df = pd.read_csv(\"/Users/downy/Documents/2025-1_prometheus/selected_quotes_119938.csv\")"
   ]
  },
  {
   "cell_type": "code",
   "execution_count": 5,
   "metadata": {},
   "outputs": [
    {
     "name": "stdout",
     "output_type": "stream",
     "text": [
      "(119938, 3)\n"
     ]
    },
    {
     "data": {
      "text/html": [
       "<div>\n",
       "<style scoped>\n",
       "    .dataframe tbody tr th:only-of-type {\n",
       "        vertical-align: middle;\n",
       "    }\n",
       "\n",
       "    .dataframe tbody tr th {\n",
       "        vertical-align: top;\n",
       "    }\n",
       "\n",
       "    .dataframe thead th {\n",
       "        text-align: right;\n",
       "    }\n",
       "</style>\n",
       "<table border=\"1\" class=\"dataframe\">\n",
       "  <thead>\n",
       "    <tr style=\"text-align: right;\">\n",
       "      <th></th>\n",
       "      <th>quote</th>\n",
       "      <th>author</th>\n",
       "      <th>category</th>\n",
       "    </tr>\n",
       "  </thead>\n",
       "  <tbody>\n",
       "    <tr>\n",
       "      <th>0</th>\n",
       "      <td>I'm selfish, impatient and a little insecure. ...</td>\n",
       "      <td>Marilyn Monroe</td>\n",
       "      <td>best, life, love, mistakes, truth</td>\n",
       "    </tr>\n",
       "    <tr>\n",
       "      <th>1</th>\n",
       "      <td>You know you're in love when you can't fall as...</td>\n",
       "      <td>Dr. Seuss</td>\n",
       "      <td>dreams, love, reality, sleep</td>\n",
       "    </tr>\n",
       "    <tr>\n",
       "      <th>2</th>\n",
       "      <td>A friend is someone who knows all about you an...</td>\n",
       "      <td>Elbert Hubbard</td>\n",
       "      <td>friend, friendship, knowledge, love</td>\n",
       "    </tr>\n",
       "    <tr>\n",
       "      <th>3</th>\n",
       "      <td>Darkness cannot drive out darkness: only light...</td>\n",
       "      <td>Martin Luther King Jr., A Testament of Hope: T...</td>\n",
       "      <td>darkness, drive-out, hate, inspirational, light</td>\n",
       "    </tr>\n",
       "    <tr>\n",
       "      <th>4</th>\n",
       "      <td>We accept the love we think we deserve.</td>\n",
       "      <td>Stephen Chbosky, The Perks of Being a Wallflower</td>\n",
       "      <td>inspirational, love</td>\n",
       "    </tr>\n",
       "  </tbody>\n",
       "</table>\n",
       "</div>"
      ],
      "text/plain": [
       "                                               quote  \\\n",
       "0  I'm selfish, impatient and a little insecure. ...   \n",
       "1  You know you're in love when you can't fall as...   \n",
       "2  A friend is someone who knows all about you an...   \n",
       "3  Darkness cannot drive out darkness: only light...   \n",
       "4            We accept the love we think we deserve.   \n",
       "\n",
       "                                              author  \\\n",
       "0                                     Marilyn Monroe   \n",
       "1                                          Dr. Seuss   \n",
       "2                                     Elbert Hubbard   \n",
       "3  Martin Luther King Jr., A Testament of Hope: T...   \n",
       "4   Stephen Chbosky, The Perks of Being a Wallflower   \n",
       "\n",
       "                                          category  \n",
       "0                best, life, love, mistakes, truth  \n",
       "1                     dreams, love, reality, sleep  \n",
       "2              friend, friendship, knowledge, love  \n",
       "3  darkness, drive-out, hate, inspirational, light  \n",
       "4                              inspirational, love  "
      ]
     },
     "execution_count": 5,
     "metadata": {},
     "output_type": "execute_result"
    }
   ],
   "source": [
    "print(df.shape)\n",
    "df.head()"
   ]
  },
  {
   "cell_type": "code",
   "execution_count": null,
   "metadata": {},
   "outputs": [],
   "source": []
  },
  {
   "cell_type": "code",
   "execution_count": 3,
   "metadata": {},
   "outputs": [
    {
     "data": {
      "text/plain": [
       "category\n",
       "education, happiness, hope, inspirational, intelligence    1734\n",
       "inspirational                                               603\n",
       "love                                                        550\n",
       "happiness                                                   466\n",
       "humor                                                       450\n",
       "                                                           ... \n",
       "nature, time                                                  1\n",
       "nature, stars, trees                                          1\n",
       "delicious, nature, sunlight                                   1\n",
       "conservation, environment, nature, preservation, woods        1\n",
       "work, past, create                                            1\n",
       "Name: count, Length: 88468, dtype: int64"
      ]
     },
     "execution_count": 3,
     "metadata": {},
     "output_type": "execute_result"
    }
   ],
   "source": [
    "df['category'].value_counts()"
   ]
  },
  {
   "cell_type": "code",
   "execution_count": 4,
   "metadata": {},
   "outputs": [
    {
     "data": {
      "text/plain": [
       "<bound method Series.unique of 0                       best, life, love, mistakes, truth\n",
       "1                            dreams, love, reality, sleep\n",
       "2                     friend, friendship, knowledge, love\n",
       "3         darkness, drive-out, hate, inspirational, light\n",
       "4                                     inspirational, love\n",
       "                               ...                       \n",
       "119933                                man, doing, better \n",
       "119934                             reading, people, king \n",
       "119935                                       past, faces \n",
       "119936                              anxiety, you, sorrow \n",
       "119937                                work, past, create \n",
       "Name: category, Length: 119938, dtype: object>"
      ]
     },
     "execution_count": 4,
     "metadata": {},
     "output_type": "execute_result"
    }
   ],
   "source": [
    "df['category'].unique"
   ]
  },
  {
   "cell_type": "code",
   "execution_count": 8,
   "metadata": {},
   "outputs": [
    {
     "name": "stdout",
     "output_type": "stream",
     "text": [
      "샘플링된 데이터가 'sampled_quotes.csv' 파일로 저장되었습니다.\n"
     ]
    }
   ],
   "source": [
    "import pandas as pd\n",
    "\n",
    "# CSV 파일을 읽어옵니다.\n",
    "df = pd.read_csv(\"/Users/downy/Documents/2025-1_prometheus/selected_quotes_119938.csv\")\n",
    "\n",
    "# 10,000개의 데이터를 무작위로 샘플링합니다.\n",
    "sampled_df = df.sample(n=10000, random_state=42)\n",
    "\n",
    "# 샘플링된 데이터를 CSV 파일로 저장합니다.\n",
    "sampled_df.to_csv(\"/Users/downy/Documents/2025-1_prometheus/sampled_quotes.csv\", index=False)\n",
    "\n",
    "# 저장된 파일을 확인합니다.\n",
    "print(\"샘플링된 데이터가 'sampled_quotes.csv' 파일로 저장되었습니다.\")"
   ]
  }
 ],
 "metadata": {
  "kernelspec": {
   "display_name": "prometheus_25-2",
   "language": "python",
   "name": "python3"
  },
  "language_info": {
   "codemirror_mode": {
    "name": "ipython",
    "version": 3
   },
   "file_extension": ".py",
   "mimetype": "text/x-python",
   "name": "python",
   "nbconvert_exporter": "python",
   "pygments_lexer": "ipython3",
   "version": "3.12.9"
  }
 },
 "nbformat": 4,
 "nbformat_minor": 2
}
